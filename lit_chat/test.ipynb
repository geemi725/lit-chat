{
 "cells": [
  {
   "cell_type": "code",
   "execution_count": 6,
   "metadata": {},
   "outputs": [],
   "source": [
    "from prompts import QA_PROMPT\n",
    "import os\n",
    "from os import path"
   ]
  },
  {
   "cell_type": "code",
   "execution_count": 2,
   "metadata": {},
   "outputs": [
    {
     "name": "stdout",
     "output_type": "stream",
     "text": [
      "Given the following unformatted text from an academic paper, please find the answer to a question. \n",
      "\n",
      "    \n",
      "    Question: QQQQQQ\n",
      "\n",
      "    text: EEEEEE\n",
      "\n",
      "    If you find multiple answers, please provide the most relevant answer. \n",
      "\n",
      "    Also provide the text which was used to generate the answer. \n",
      "\n",
      "    Finally, provide a confidence score between 0 and 10 to indicate how confident you are with your answer. \n",
      "\n",
      "\n",
      "    If you couldn't find an answer, reply with 'could not find an answer'\n",
      "\n",
      "    answer: <provide answer here>\n",
      "\n",
      "    literature evidence: <provide text here>\n",
      "\n",
      "    confidence score: <a value between 0 and 10>    \n",
      "    \n"
     ]
    }
   ],
   "source": [
    "question = 'QQQQQQ'\n",
    "evidence = 'EEEEEE'\n",
    "prompt = QA_PROMPT.format(question,evidence)\n",
    "print(prompt)"
   ]
  },
  {
   "cell_type": "code",
   "execution_count": 9,
   "metadata": {},
   "outputs": [
    {
     "name": "stdout",
     "output_type": "stream",
     "text": [
      "0 /home/wellawatte/Documents/MOF_grant/lit_extraction/literature/membranes/Aluminophosphate-17 and silicoaluminophosphate-17 membranes for CO2 separations.pdf\n",
      "1 /home/wellawatte/Documents/MOF_grant/lit_extraction/literature/membranes/Rui - Metal‐organic framework membrane process for high purity CO2 production.pdf\n",
      "2 /home/wellawatte/Documents/MOF_grant/lit_extraction/literature/membranes/Improved AlPO-18 membranes for light gas.pdf\n",
      "3 /home/wellawatte/Documents/MOF_grant/lit_extraction/literature/membranes/High-performance multiple-layer PIM composite hollow fiber membranes.pdf\n",
      "4 /home/wellawatte/Documents/MOF_grant/lit_extraction/literature/membranes/Silica supported SAPO-34 membranes for CO2 N2 separation.pdf\n",
      "5 /home/wellawatte/Documents/MOF_grant/lit_extraction/literature/membranes/A synergistic strategy via the combination of multiple functional.pdf\n",
      "6 /home/wellawatte/Documents/MOF_grant/lit_extraction/literature/membranes/Highly permeable carbon molecular sieve membranes for eﬃcient CO2 N2 separation at ambient and subambient temperatures.pdf\n",
      "7 /home/wellawatte/Documents/MOF_grant/lit_extraction/literature/membranes/wu-et-al-2019-polydopamine-modified-metal-organic-framework-membrane-with-enhanced-selectivity-for-carbon-capture.pdf\n",
      "8 /home/wellawatte/Documents/MOF_grant/lit_extraction/literature/membranes/Highly permeable thermally rearranged polymer composite.pdf\n",
      "9 /home/wellawatte/Documents/MOF_grant/lit_extraction/literature/membranes/Metal-induced ordered microporous polymers for fabricating large-area gas separation membranes.pdf\n",
      "10 /home/wellawatte/Documents/MOF_grant/lit_extraction/literature/membranes/Facile synthesis of highly permeable CAU-1 tubular membranes for.pdf\n",
      "11 /home/wellawatte/Documents/MOF_grant/lit_extraction/literature/membranes/Dimensionally-controlled densification in crosslinked thermally rearranged.pdf\n",
      "12 /home/wellawatte/Documents/MOF_grant/lit_extraction/literature/membranes/Thermally rearranged (TR) polybenzoxazole hollow fiber membranes for CO2 capture.pdf\n",
      "13 /home/wellawatte/Documents/MOF_grant/lit_extraction/literature/membranes/JMatChemA_Borisov_Synergistic_enhancement_of_gas_selectivity.pdf\n",
      "14 /home/wellawatte/Documents/MOF_grant/lit_extraction/literature/membranes/Separation performance of PVAm composite membrane for CO2 capture.pdf\n",
      "15 /home/wellawatte/Documents/MOF_grant/lit_extraction/literature/membranes/Qiao - 2012 PVAm PIP PS Composite Membrane with High Performance for CO2 N2 Separation.pdf\n"
     ]
    }
   ],
   "source": [
    "for i, filename in enumerate(os.listdir(file_dir)):\n",
    "    filename = os.path.join(file_dir, filename)\n",
    "    print(i,filename)"
   ]
  },
  {
   "cell_type": "code",
   "execution_count": null,
   "metadata": {},
   "outputs": [],
   "source": []
  }
 ],
 "metadata": {
  "kernelspec": {
   "display_name": "xpertai",
   "language": "python",
   "name": "python3"
  },
  "language_info": {
   "codemirror_mode": {
    "name": "ipython",
    "version": 3
   },
   "file_extension": ".py",
   "mimetype": "text/x-python",
   "name": "python",
   "nbconvert_exporter": "python",
   "pygments_lexer": "ipython3",
   "version": "3.10.9"
  }
 },
 "nbformat": 4,
 "nbformat_minor": 2
}
